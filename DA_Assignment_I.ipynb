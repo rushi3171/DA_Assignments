{
 "cells": [
  {
   "cell_type": "markdown",
   "id": "945ceeeb-9879-47f8-9153-c4c987116dfa",
   "metadata": {},
   "source": [
    "#### Problem 1: Write a program that will give you in hand monthly salary after deduction on CTC - HRA(10%), DA(5%), PF(3%) and taxes deduction as below:\n",
    "    Salary(Lakhs) : Tax(%)\n",
    "    Below 5 : 0%\n",
    "    5-10 : 10%\n",
    "    10-20 : 20%\n",
    "    aboove 20 : 30%"
   ]
  },
  {
   "cell_type": "code",
   "execution_count": 36,
   "id": "742a4fca-9be3-4310-8d7c-c151f3cc058f",
   "metadata": {},
   "outputs": [
    {
     "name": "stdin",
     "output_type": "stream",
     "text": [
      "Enter Your CTC 1200000\n"
     ]
    },
    {
     "name": "stdout",
     "output_type": "stream",
     "text": [
      "CTC = 1200000.0 HRA = 120000.0 DA = 60000.0 PF = 36000.0 Gross Salary = 984000.0 Tax = 98400.0 In Hand Salary = 885600.0\n"
     ]
    }
   ],
   "source": [
    "ctc = float(input(\"Enter Your CTC\"))\n",
    "\n",
    "hra = ctc * 0.1\n",
    "da = ctc * 0.05\n",
    "pf = ctc * 0.03\n",
    "gross_sal = ctc - hra - da - pf\n",
    "\n",
    "tax_rate = 0\n",
    "if (gross_sal < 500000):\n",
    "    tax_rate = 0\n",
    "elif ((gross_sal > 500000) and (gross_sal < 1000000)):\n",
    "    tax_rate = 0.1\n",
    "elif ((gross_sal > 1000000) and (gross_sal < 2000000)):\n",
    "    tax_rate = 0.2\n",
    "elif (gross_sal > 2000000):\n",
    "    tax_rate = 0.3\n",
    "\n",
    "tax = gross_sal * tax_rate\n",
    "in_hand_sal = gross_sal - tax\n",
    "print(\"CTC =\",ctc,\"HRA =\",hra,\"DA =\",da,\"PF =\",pf,\"Gross Salary =\",gross_sal,\"Tax =\",tax,\"In Hand Salary =\",in_hand_sal)"
   ]
  },
  {
   "cell_type": "markdown",
   "id": "cf2633cd-8d3c-4264-b1f6-ad1122912ee5",
   "metadata": {},
   "source": [
    "#### Problem 2: Write a program that take a user input of three angles and will find out whether it can form a triangle or not."
   ]
  },
  {
   "cell_type": "code",
   "execution_count": 5,
   "id": "ee3ec99e-dd16-48b4-b605-ed42e782e937",
   "metadata": {},
   "outputs": [
    {
     "name": "stdin",
     "output_type": "stream",
     "text": [
      "Enter First Angle 90\n",
      "Enter Second Angle 89\n",
      "Enter Third Angle 1\n"
     ]
    },
    {
     "name": "stdout",
     "output_type": "stream",
     "text": [
      "Can form a triangle\n"
     ]
    }
   ],
   "source": [
    "angle_1 = float(input(\"Enter First Angle\"))\n",
    "angle_2 = float(input(\"Enter Second Angle\"))\n",
    "angle_3 = float(input(\"Enter Third Angle\"))\n",
    "\n",
    "if (angle_1 + angle_2 + angle_3 == 180):\n",
    "    print(\"Can form a triangle\")\n",
    "else:\n",
    "    print(\"Can not form a triangle\")"
   ]
  },
  {
   "cell_type": "markdown",
   "id": "dd6a0cb3-50d6-4a60-ac92-b1fe4b8d35f8",
   "metadata": {},
   "source": [
    "#### Problem 3: Write a program that will take user input of cost price and selling price and determines whether its a loss or a profit."
   ]
  },
  {
   "cell_type": "code",
   "execution_count": 8,
   "id": "30298d2c-0253-47c0-9710-475d65ffe8b5",
   "metadata": {},
   "outputs": [
    {
     "name": "stdin",
     "output_type": "stream",
     "text": [
      "Enter cost price 100\n",
      "Enter Selling price 101\n"
     ]
    },
    {
     "name": "stdout",
     "output_type": "stream",
     "text": [
      "Profit of 1.0\n"
     ]
    }
   ],
   "source": [
    "cost = float(input(\"Enter cost price\"))\n",
    "selling = float(input(\"Enter Selling price\"))\n",
    "diff = selling - cost\n",
    "\n",
    "if (diff > 0):\n",
    "    print(\"Profit of\",diff)\n",
    "else:\n",
    "    print(\"Loss of\",diff)"
   ]
  },
  {
   "cell_type": "markdown",
   "id": "15820b05-a4c7-44c1-80e7-8a79b6bf332f",
   "metadata": {},
   "source": [
    "#### Problem 4: Write a menu-driven program -\n",
    "1. cm to ft\n",
    "2. km to miles\n",
    "3. USD to INR\n",
    "4. exit"
   ]
  },
  {
   "cell_type": "code",
   "execution_count": 37,
   "id": "0464ccbf-90d8-4992-8f35-6a6ec3364d02",
   "metadata": {},
   "outputs": [
    {
     "name": "stdin",
     "output_type": "stream",
     "text": [
      "Hello!, Choose among following options :\n",
      "      1. CM to Ft\n",
      "      2. KM to Miles\n",
      "      3. USD to INR\n",
      "      4. Exit\n",
      "       5\n"
     ]
    },
    {
     "name": "stdout",
     "output_type": "stream",
     "text": [
      "Invalid Entry\n"
     ]
    }
   ],
   "source": [
    "option = int(input(\"\"\"Hello!, Choose among following options :\n",
    "      1. CM to Ft\n",
    "      2. KM to Miles\n",
    "      3. USD to INR\n",
    "      4. Exit\n",
    "      \"\"\"))\n",
    "if (option == 1):\n",
    "    cm = float(input(\"Enter distance in CM\"))\n",
    "    print(cm,\"CM =\",cm * 0.032808399,\"Ft\")\n",
    "\n",
    "if (option == 2):\n",
    "    km = float(input(\"Enter distance in KM\"))\n",
    "    print(km,\"KM =\",km * 0.621371192,\"Miles\")\n",
    "\n",
    "if (option == 3):\n",
    "    usd = float(input(\"Enter amount in USD\"))\n",
    "    print(usd,\"USD =\",usd * 83.36,\"INR\")\n",
    "    \n",
    "if (option == 4):\n",
    "    print(\"Exiting!......\")\n",
    "\n",
    "else:\n",
    "    print(\"Invalid Entry\")"
   ]
  },
  {
   "cell_type": "markdown",
   "id": "d1420cb7-3afc-486a-829b-11a67069cb5c",
   "metadata": {},
   "source": [
    "#### Problem 5 : Display Fibonacci series up to 10 terms.\n",
    "Note: The Fibonacci Sequence is a series of numbers. The next number is found by adding up the two numbers before it. The first two numbers are 0 and 1. For example, 0, 1, 1, 2, 3, 5, 8, 13, 21. The next number in this series above is 13+21 = 34"
   ]
  },
  {
   "cell_type": "code",
   "execution_count": 25,
   "id": "c5f34c1f-e84e-4d65-9c40-dca12ca34aee",
   "metadata": {},
   "outputs": [
    {
     "name": "stdout",
     "output_type": "stream",
     "text": [
      "0\n",
      "1\n",
      "1\n",
      "2\n",
      "3\n",
      "5\n",
      "8\n",
      "13\n",
      "21\n",
      "34\n"
     ]
    }
   ],
   "source": [
    "t1 = 0\n",
    "t2 = 1\n",
    "fib = 0\n",
    "for i in range (0,10):\n",
    "    print(t1)\n",
    "    fib = t1 + t2\n",
    "    t1 = t2\n",
    "    t2 = fib"
   ]
  },
  {
   "cell_type": "markdown",
   "id": "6415c609-6d6f-4492-bdd7-56420ff26785",
   "metadata": {},
   "source": [
    "#### Problem 6 - Find the factorial of a given number.\n",
    "Write a program to use the loop to find the factorial of a given number.\n",
    "\n",
    "The factorial (symbol: !) means to multiply all whole numbers from the chosen number down to 1.\n",
    "\n",
    "For example: calculate the factorial of 5\n",
    "\n",
    "5! = 5 × 4 × 3 × 2 × 1 = 120"
   ]
  },
  {
   "cell_type": "code",
   "execution_count": 34,
   "id": "76f77c50-6730-457d-acca-b885aa928a77",
   "metadata": {},
   "outputs": [
    {
     "name": "stdin",
     "output_type": "stream",
     "text": [
      "Enter Number 6\n"
     ]
    },
    {
     "name": "stdout",
     "output_type": "stream",
     "text": [
      "720\n"
     ]
    }
   ],
   "source": [
    "num = int(input(\"Enter Number\"))\n",
    "fact = 1\n",
    "\n",
    "for i in range (1,num + 1):\n",
    "    fact = fact * i\n",
    "\n",
    "print(fact)"
   ]
  },
  {
   "cell_type": "markdown",
   "id": "0c5f173d-024f-4fb5-aed3-d93462aa5881",
   "metadata": {},
   "source": [
    "#### Problem 7 : Reverse a given integer number.\n",
    "    Example:\n",
    "        Input:76542\n",
    "        Output:24567"
   ]
  },
  {
   "cell_type": "code",
   "execution_count": 8,
   "id": "08b75c85-4df6-4536-bc55-45a597e736a2",
   "metadata": {},
   "outputs": [
    {
     "name": "stdin",
     "output_type": "stream",
     "text": [
      "Enter Number 2345\n"
     ]
    },
    {
     "name": "stdout",
     "output_type": "stream",
     "text": [
      "5432\n"
     ]
    }
   ],
   "source": [
    "num = int(input(\"Enter Number\"))\n",
    "rev = 0\n",
    "\n",
    "while (num > 0):\n",
    "    temp = num % 10\n",
    "    rev = rev * 10 + temp\n",
    "    num = num // 10\n",
    "    \n",
    "print(rev)"
   ]
  },
  {
   "cell_type": "markdown",
   "id": "24380e74-4b2c-487e-8b6c-a2c56485ae52",
   "metadata": {},
   "source": [
    "#### Problem 8: Take a user input as integer N. Find out the sum from 1 to N. If any number if divisible by 5, then skip that number. And if the sum is greater than 300, don't need to calculate the sum further more. Print the final result. And don't use for loop to solve this problem.\n",
    "    Example 1:\n",
    "        Input:30\n",
    "        Output:276"
   ]
  },
  {
   "cell_type": "code",
   "execution_count": 24,
   "id": "dc4e9f10-5bc3-425c-8de8-1dea32cb82bb",
   "metadata": {},
   "outputs": [
    {
     "name": "stdin",
     "output_type": "stream",
     "text": [
      "Enter a Number 10\n"
     ]
    },
    {
     "name": "stdout",
     "output_type": "stream",
     "text": [
      "1\n",
      "3\n",
      "6\n",
      "10\n",
      "16\n",
      "23\n",
      "31\n",
      "40\n"
     ]
    }
   ],
   "source": [
    "N = int(input(\"Enter a Number\"))\n",
    "i = 1\n",
    "sum1 = 0\n",
    "\n",
    "while (i <= N):\n",
    "    if (i % 5 == 0):\n",
    "        i = i + 1\n",
    "        continue\n",
    "    elif (sum1 <= 300):\n",
    "        sum1 = sum1 + i\n",
    "        i += 1\n",
    "        print(sum1)\n",
    "    else:\n",
    "        break"
   ]
  },
  {
   "cell_type": "markdown",
   "id": "90b52b9f-2592-44f5-abb4-f32372666825",
   "metadata": {},
   "source": [
    "#### Problem 9: Write a program that keeps on accepting a number from the user until the user enters Zero. Display the sum and average of all the numbers."
   ]
  },
  {
   "cell_type": "code",
   "execution_count": 40,
   "id": "83bba08a-f767-4739-9a7e-75db4d841997",
   "metadata": {},
   "outputs": [
    {
     "name": "stdin",
     "output_type": "stream",
     "text": [
      "Enter Number 1\n",
      "Enter Number 2\n",
      "Enter Number 3\n",
      "Enter Number 4\n",
      "Enter Number 5\n",
      "Enter Number 0\n"
     ]
    },
    {
     "name": "stdout",
     "output_type": "stream",
     "text": [
      "Sum = 15 Average = 3.0\n"
     ]
    }
   ],
   "source": [
    "ip = 1\n",
    "count = 0\n",
    "sum = 0\n",
    "while(True):\n",
    "    ip = int(input(\"Enter Number\"))\n",
    "    if (ip != 0):\n",
    "        count += 1\n",
    "        sum = sum + ip \n",
    "    else:\n",
    "        break\n",
    "\n",
    "print(\"Sum =\",sum,\"Average =\",sum/count)"
   ]
  },
  {
   "cell_type": "markdown",
   "id": "c8fa57b1-81cb-4c2f-a7a5-adfad852c9a2",
   "metadata": {},
   "source": [
    "#### Problem 10: Write a program which will find all such numbers which are divisible by 7 but are not a multiple of 5, between 2000 and 3200 (both included). The numbers obtained should be printed in a comma-separated sequence on a single line."
   ]
  },
  {
   "cell_type": "code",
   "execution_count": 45,
   "id": "0c92b98c-1b0e-4e51-8ca5-cb0c430a8d84",
   "metadata": {},
   "outputs": [
    {
     "name": "stdout",
     "output_type": "stream",
     "text": [
      "2002,2009,2016,2023,2037,2044,2051,2058,2072,2079,2086,2093,2107,2114,2121,2128,2142,2149,2156,2163,2177,2184,2191,2198,2212,2219,2226,2233,2247,2254,2261,2268,2282,2289,2296,2303,2317,2324,2331,2338,2352,2359,2366,2373,2387,2394,2401,2408,2422,2429,2436,2443,2457,2464,2471,2478,2492,2499,2506,2513,2527,2534,2541,2548,2562,2569,2576,2583,2597,2604,2611,2618,2632,2639,2646,2653,2667,2674,2681,2688,2702,2709,2716,2723,2737,2744,2751,2758,2772,2779,2786,2793,2807,2814,2821,2828,2842,2849,2856,2863,2877,2884,2891,2898,2912,2919,2926,2933,2947,2954,2961,2968,2982,2989,2996,3003,3017,3024,3031,3038,3052,3059,3066,3073,3087,3094,3101,3108,3122,3129,3136,3143,3157,3164,3171,3178,3192,3199,"
     ]
    }
   ],
   "source": [
    "for i in range(2000,3201):\n",
    "    if ((i % 7 == 0) and (i % 5 != 0)):\n",
    "        print(i,end = \",\")"
   ]
  },
  {
   "cell_type": "markdown",
   "id": "ce62cab8-7c53-41a1-bdc8-d5c59a334ee9",
   "metadata": {},
   "source": [
    "#### Problem 11 : Write a program, which will find all such numbers between 1000 and 3000 (both included) such that each digit of the number is an even number. The numbers obtained should be printed in a space-separated sequence on a single line."
   ]
  },
  {
   "cell_type": "code",
   "execution_count": 84,
   "id": "b06aa211-eddc-4685-a6e1-4a7ba977464e",
   "metadata": {},
   "outputs": [
    {
     "name": "stdout",
     "output_type": "stream",
     "text": [
      "2000 2002 2004 2006 2008 2020 2022 2024 2026 2028 2040 2042 2044 2046 2048 2060 2062 2064 2066 2068 2080 2082 2084 2086 2088 2200 2202 2204 2206 2208 2220 2222 2224 2226 2228 2240 2242 2244 2246 2248 2260 2262 2264 2266 2268 2280 2282 2284 2286 2288 2400 2402 2404 2406 2408 2420 2422 2424 2426 2428 2440 2442 2444 2446 2448 2460 2462 2464 2466 2468 2480 2482 2484 2486 2488 2600 2602 2604 2606 2608 2620 2622 2624 2626 2628 2640 2642 2644 2646 2648 2660 2662 2664 2666 2668 2680 2682 2684 2686 2688 2800 2802 2804 2806 2808 2820 2822 2824 2826 2828 2840 2842 2844 2846 2848 2860 2862 2864 2866 2868 2880 2882 2884 2886 2888 "
     ]
    }
   ],
   "source": [
    "for i in range (1000,3001):\n",
    "    if(((i//1000)%2==0) and ((i//100%10)%2==0) and ((i%100//10)%2==0) and ((i%10)%2==0)):\n",
    "        print(i,end=\" \")"
   ]
  },
  {
   "cell_type": "markdown",
   "id": "8bdb4be6-d053-4b10-8dae-bd9a40270c69",
   "metadata": {},
   "source": [
    "#### Problem 12: A robot moves in a plane starting from the original point (0,0). The robot can move toward UP, DOWN, LEFT and RIGHT with a given steps.\n",
    "    The trace of robot movement is shown as the following:\n",
    "    UP 5\n",
    "    DOWN 3\n",
    "    LEFT 3\n",
    "    RIGHT 2\n",
    "    !\n",
    "    \n",
    "    The numbers after the direction are steps.\n",
    "    ! means robot stop there.\n",
    "\n",
    "    Please write a program to compute the distance from current position after a sequence of movement and original point.If the distance is a float, then just print the nearest integer.\n",
    "\n",
    "    Example:\n",
    "        Input:UP 5\n",
    "        DOWN 3\n",
    "        LEFT 3\n",
    "        RIGHT 2\n",
    "        !\n",
    "    \n",
    "        Output:2"
   ]
  },
  {
   "cell_type": "code",
   "execution_count": 91,
   "id": "925a8e3e-957a-43f0-97e8-1c777c3c04ec",
   "metadata": {},
   "outputs": [
    {
     "name": "stdin",
     "output_type": "stream",
     "text": [
      "UP : 5\n",
      "DOWN : 3\n",
      "LEFT : 3\n",
      "RIGHT : 2\n"
     ]
    },
    {
     "name": "stdout",
     "output_type": "stream",
     "text": [
      "X = 2 Y = -1\n"
     ]
    }
   ],
   "source": [
    "up = int(input(\"UP :\"))\n",
    "down = int(input(\"DOWN :\"))\n",
    "left = int(input(\"LEFT :\"))\n",
    "right = int(input(\"RIGHT :\"))\n",
    "\n",
    "x=up-down\n",
    "y=right-left\n",
    "print(\"X =\",x,\"Y =\",y)"
   ]
  },
  {
   "cell_type": "markdown",
   "id": "789582e1-f211-444c-aa8a-f95966556bfe",
   "metadata": {},
   "source": [
    "#### Problem 13:Write a program to print whether a given number is a prime number or not"
   ]
  },
  {
   "cell_type": "code",
   "execution_count": 117,
   "id": "8959bc66-8fd1-4061-9280-44866c32c57a",
   "metadata": {},
   "outputs": [
    {
     "name": "stdin",
     "output_type": "stream",
     "text": [
      "Enter Nunber 7\n"
     ]
    },
    {
     "name": "stdout",
     "output_type": "stream",
     "text": [
      "Prime\n"
     ]
    }
   ],
   "source": [
    "prime=True\n",
    "num = int(input(\"Enter Nunber\"))\n",
    "\n",
    "for i in range(2,num):\n",
    "    if (num%i==0):\n",
    "        print(\"Not prime\")        \n",
    "        prime=False\n",
    "        break\n",
    "        \n",
    "if (prime):\n",
    "    print(\"Prime\")"
   ]
  },
  {
   "cell_type": "markdown",
   "id": "9c00329f-5fee-4d2b-b44b-bbdbc38f7433",
   "metadata": {},
   "source": [
    "#### Problem 14:Print all the Armstrong numbers in a given range.\n",
    "    Range will be provided by the user\n",
    "    Armstrong number is a number that is equal to the sum of cubes of its digits. For example 0, 1, 153, 370, 371 and 407 are the Armstrong numbers."
   ]
  },
  {
   "cell_type": "code",
   "execution_count": 150,
   "id": "1fa678a0-3272-472f-94c8-353e337388ed",
   "metadata": {},
   "outputs": [
    {
     "name": "stdin",
     "output_type": "stream",
     "text": [
      "Enter Starting Range 0\n",
      "Enter Stopping Range 1000\n"
     ]
    },
    {
     "name": "stdout",
     "output_type": "stream",
     "text": [
      "0\n",
      "1\n",
      "153\n",
      "370\n",
      "371\n",
      "407\n"
     ]
    }
   ],
   "source": [
    "start=int(input(\"Enter Starting Range\"))\n",
    "stop=int(input(\"Enter Stopping Range\"))\n",
    "\n",
    "for i in range(start,stop+1):\n",
    "    d1=(i//1000)**3\n",
    "    d2=(i//100%10)**3\n",
    "    d3=(i%100//10)**3\n",
    "    d4=(i%10)**3\n",
    "\n",
    "    if (d1+d2+d3+d4==i):\n",
    "        print(i)"
   ]
  },
  {
   "cell_type": "markdown",
   "id": "c173ce6d-c71e-41fb-b1e9-ce1b927fd56f",
   "metadata": {},
   "source": [
    "### Q15) Calculate the angle between the hour hand and minute hand.\n",
    "Note: There can be two angles between hands; we need to print a minimum of two. Also, we need to print the floor of the final result angle. For example, if the final angle is 10.61, we need to print 10.\n",
    "\n",
    "    Input:H = 9 , M = 0<br>\n",
    "    Output:90\n",
    "    Explanation:The minimum angle between hour and minute hand when the time is 9 is 90 degress.degress."
   ]
  },
  {
   "cell_type": "code",
   "execution_count": 210,
   "id": "892c5824-f6cb-44d5-9e8f-baecaa3ace6d",
   "metadata": {},
   "outputs": [
    {
     "name": "stdin",
     "output_type": "stream",
     "text": [
      "Hour : 6\n",
      "Minutes : 36\n"
     ]
    },
    {
     "name": "stdout",
     "output_type": "stream",
     "text": [
      "-36\n"
     ]
    }
   ],
   "source": [
    "hr=int(input(\"Hour :\"))\n",
    "mn=int(input(\"Minutes :\"))\n",
    "\n",
    "if (hr<=12 and mn<=60):\n",
    "    hr_pos=30*hr\n",
    "    mn_pos=6*mn\n",
    "    clockwise=hr_pos-mn_pos\n",
    "    anticlockwise=360-clockwise\n",
    "    if (clockwise<180):\n",
    "        print(clockwise)\n",
    "    else:\n",
    "        print(anticlockwise,\"Degrees\")\n",
    "else:\n",
    "    print(\"Invalid Input\")"
   ]
  }
 ],
 "metadata": {
  "kernelspec": {
   "display_name": "Python 3 (ipykernel)",
   "language": "python",
   "name": "python3"
  },
  "language_info": {
   "codemirror_mode": {
    "name": "ipython",
    "version": 3
   },
   "file_extension": ".py",
   "mimetype": "text/x-python",
   "name": "python",
   "nbconvert_exporter": "python",
   "pygments_lexer": "ipython3",
   "version": "3.11.7"
  }
 },
 "nbformat": 4,
 "nbformat_minor": 5
}
